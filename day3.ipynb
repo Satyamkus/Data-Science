{
 "cells": [
  {
   "cell_type": "code",
   "execution_count": 8,
   "id": "3d379543-9bdd-4205-920f-0f4bf6603534",
   "metadata": {},
   "outputs": [
    {
     "name": "stdout",
     "output_type": "stream",
     "text": [
      "3\n",
      "Charlie\n",
      "22\n",
      "Bangalore\n",
      "M\n",
      "[1, 2]\n",
      "['Alice', 'Bob']\n",
      "[25, 30]\n",
      "['Delhi', 'Mumbai']\n",
      "['F', 'M']\n"
     ]
    },
    {
     "name": "stdin",
     "output_type": "stream",
     "text": [
      "Enter name Bob\n"
     ]
    },
    {
     "name": "stdout",
     "output_type": "stream",
     "text": [
      "2\n",
      "Bob\n",
      "30\n",
      "Mumbai\n",
      "M\n"
     ]
    }
   ],
   "source": [
    "data = {\n",
    "    \"id\": [1, 2, 3],\n",
    "    \"name\": [\"Alice\", \"Bob\", \"Charlie\"],\n",
    "    \"age\": [25, 30, 22],\n",
    "    \"city\": [\"Delhi\", \"Mumbai\", \"Bangalore\"],\n",
    "    \"gender\": [\"F\", \"M\", \"M\"]\n",
    "    \n",
    "}\n",
    "#1. print detais of person having minimum age\n",
    "min_age=  min(data[\"age\"])\n",
    "idx= data[\"age\"].index(min_age)\n",
    "for row in data:\n",
    "              print(data[row][idx])\n",
    "\n",
    "#2. print details of two index\n",
    "for row in data:\n",
    "    print(data[row][:2])\n",
    "\n",
    "#3. take user input name and print details of him\n",
    "input_name=input(\"Enter name\")\n",
    "if input_name in data[\"name\"]:\n",
    "    idx= data[\"name\"].index(input_name)\n",
    "    for row in data:\n",
    "        print( data[row][idx])\n"
   ]
  },
  {
   "cell_type": "raw",
   "id": "723050b9-8a3d-4a25-b23a-d247c1849435",
   "metadata": {},
   "source": []
  },
  {
   "cell_type": "code",
   "execution_count": 3,
   "id": "6f183040-0256-40ee-8a1a-54c66a5ce3fe",
   "metadata": {},
   "outputs": [
    {
     "name": "stdout",
     "output_type": "stream",
     "text": [
      "name :  Prince\n",
      "age :  18\n",
      "city :  Varanasi\n",
      "occupation :  Soldier\n",
      "salary :  90000\n",
      "\n",
      "\n",
      "Question 2\n",
      "Vishal\n",
      "Sahil\n",
      "\n",
      "\n",
      "Question 3\n"
     ]
    },
    {
     "name": "stdin",
     "output_type": "stream",
     "text": [
      "Enter occupation of person h\n"
     ]
    },
    {
     "name": "stdout",
     "output_type": "stream",
     "text": [
      "enter proper occupation\n",
      "\n",
      "\n",
      "\n",
      "\n",
      "Question 4\n",
      "Average age  28.0\n",
      "\n",
      "\n",
      "Question 5\n",
      "Delhi\n",
      "Mumbai\n",
      "Varanasi\n",
      "\n",
      "\n",
      "Question 6\n",
      "total salary 330000\n",
      "\n",
      "\n",
      "Question 7\n",
      "Satyam\n",
      "Himanshu\n"
     ]
    }
   ],
   "source": [
    " #  datatype Error - TypeErr\n",
    "## input column is callled featurs\n",
    "## output column is called label\n",
    "\n",
    "## create a dict with attribute name, age ,city, occupation, salary\n",
    "# 1. find the person of highest salary \n",
    "# 2. print the name of all person who age is greater than 25\n",
    "# 3. find the occupation of person with the name entered by user\n",
    "# 4. calculate the average age of all the employees\n",
    "# 5. name the cities where person with salary more than 50000 are living.\n",
    "# 6. cal the total salary of all individuals\n",
    "# 7. get the name of persons who lives in delhi and bangalore\n",
    "\n",
    "\n",
    "\n",
    "data = {\n",
    "   \n",
    "    \"name\": [\"Satyam\", \"Vishal\", \"Himanshu\", \"Sahil\", \"Prince\"],\n",
    "    \"age\": [25, 30, 22,45,18],\n",
    "    \"city\": [\"Delhi\", \"Mumbai\", \"Bangalore\", \"Lucknow\", \"Varanasi\"],\n",
    "    \"occupation\":[\" Engineer\", \"Doctor\", \"Teacher\", \"farmer\", \"Soldier\"],\n",
    "    \n",
    "    \"salary\":[70000, 80000,50000,40000, 90000]\n",
    "}\n",
    "\n",
    "#1\n",
    "highest_salrary= max( data[\"salary\"])\n",
    "highest_salrary_idx= data[\"salary\"].index(highest_salrary)\n",
    "for row in data:\n",
    "    print (row,\": \", data[row][highest_salrary_idx])\n",
    "\n",
    "\n",
    "#2.\n",
    "print(\"\\n\")\n",
    "print(\"Question 2\")\n",
    "list = []\n",
    "for i in data[\"age\"]:\n",
    "    if i> 25:\n",
    "        list.append(i)\n",
    "\n",
    "for i in list:\n",
    "    index= data[\"age\"].index(i)\n",
    "    print(data[\"name\"][index])\n",
    "\n",
    "#3.\n",
    "print(\"\\n\")\n",
    "print(\"Question 3\")\n",
    "input_occ = input(\"Enter occupation of person\")\n",
    "if input_occ in data[\"occupation\"]:\n",
    "    index= data[\"occupation\"].index(input_occ)\n",
    "    print(data[\"name\"][index])\n",
    "else:\n",
    "    print(\"enter proper occupation\")\n",
    "\n",
    "\n",
    "#4.\n",
    "print(\"\\n\")\n",
    "print(\"\\n\")\n",
    "print(\"Question 4\")\n",
    "tot_age=0\n",
    "for i in data[\"age\"]:\n",
    "    tot_age += i;\n",
    "\n",
    "print(\"Average age \", tot_age/ len (data[\"age\"]))\n",
    "\n",
    "\n",
    "#5\n",
    "print(\"\\n\")\n",
    "print(\"Question 5\")\n",
    "# list1 = []\n",
    "# for i in data[\"salary\"]:\n",
    "#     if i> 50000:\n",
    "#         list1.append(i)\n",
    "\n",
    "# for i in list1:\n",
    "#     index= data[\"salary\"].index(i)\n",
    "#     print(data[\"city\"][index])\n",
    "\n",
    "\n",
    "for salary, city in zip(data[\"salary\"], data[\"city\"]):\n",
    "    if salary > 50000:\n",
    "        print(city)\n",
    "\n",
    "\n",
    "\n",
    "#6\n",
    "print(\"\\n\")\n",
    "print(\"Question 6\")\n",
    "tot_sal=0\n",
    "for i in data[\"salary\"]:\n",
    "    tot_sal+= i\n",
    "\n",
    "print (\"total salary\", tot_sal)\n",
    "\n",
    "\n",
    "#7\n",
    "\n",
    "\n",
    "print(\"\\n\")\n",
    "print(\"Question 7\")\n",
    "list2=[]\n",
    "for i in data[\"city\"]:\n",
    "    if i == \"Delhi\" or i == \"Bangalore\":\n",
    "        list2.append(i)\n",
    "\n",
    "for i in list2:\n",
    "    index= data[\"city\"].index(i)\n",
    "    print(data[\"name\"][index])\n",
    "\n"
   ]
  },
  {
   "cell_type": "code",
   "execution_count": 2,
   "id": "4d039ff6-cc19-4e6e-9117-7ff2c65741d7",
   "metadata": {},
   "outputs": [
    {
     "ename": "NameError",
     "evalue": "name 'data' is not defined",
     "output_type": "error",
     "traceback": [
      "\u001b[1;31m---------------------------------------------------------------------------\u001b[0m",
      "\u001b[1;31mNameError\u001b[0m                                 Traceback (most recent call last)",
      "Cell \u001b[1;32mIn[2], line 2\u001b[0m\n\u001b[0;32m      1\u001b[0m \u001b[38;5;66;03m# zip(data[\"salary\"], data[\"city\"])\u001b[39;00m\n\u001b[1;32m----> 2\u001b[0m \u001b[38;5;28mprint\u001b[39m(\u001b[43mdata\u001b[49m[\u001b[38;5;124m\"\u001b[39m\u001b[38;5;124mname\u001b[39m\u001b[38;5;124m\"\u001b[39m])\n",
      "\u001b[1;31mNameError\u001b[0m: name 'data' is not defined"
     ]
    }
   ],
   "source": [
    "# zip(data[\"salary\"], data[\"city\"])\n",
    "print(data[\"name\"])"
   ]
  },
  {
   "cell_type": "code",
   "execution_count": null,
   "id": "f16c925d-b896-429d-8aae-51932635f648",
   "metadata": {},
   "outputs": [],
   "source": []
  },
  {
   "cell_type": "code",
   "execution_count": null,
   "id": "febd868e-033a-406f-921c-d1684ddfe1c2",
   "metadata": {},
   "outputs": [],
   "source": []
  }
 ],
 "metadata": {
  "kernelspec": {
   "display_name": "Python 3 (ipykernel)",
   "language": "python",
   "name": "python3"
  },
  "language_info": {
   "codemirror_mode": {
    "name": "ipython",
    "version": 3
   },
   "file_extension": ".py",
   "mimetype": "text/x-python",
   "name": "python",
   "nbconvert_exporter": "python",
   "pygments_lexer": "ipython3",
   "version": "3.12.1"
  }
 },
 "nbformat": 4,
 "nbformat_minor": 5
}
