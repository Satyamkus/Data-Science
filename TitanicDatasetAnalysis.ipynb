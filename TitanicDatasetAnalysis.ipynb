{
 "cells": [
  {
   "cell_type": "code",
   "execution_count": 1,
   "id": "a461aa2b-c9c2-4f1a-a533-2c78044710a0",
   "metadata": {},
   "outputs": [],
   "source": [
    "import numpy as np\n",
    "import pandas as pd\n",
    "import seaborn as sns\n",
    "import matplotlib.pyplot as plt\n"
   ]
  },
  {
   "cell_type": "code",
   "execution_count": 2,
   "id": "9e77dae8-153d-4f88-b01b-2396587b207c",
   "metadata": {},
   "outputs": [],
   "source": [
    "titanic_df = pd.read_csv('Titanic-Dataset.csv')"
   ]
  },
  {
   "cell_type": "code",
   "execution_count": 3,
   "id": "35984322-54aa-4dec-a95f-0bf73991e440",
   "metadata": {},
   "outputs": [
    {
     "data": {
      "text/html": [
       "<div>\n",
       "<style scoped>\n",
       "    .dataframe tbody tr th:only-of-type {\n",
       "        vertical-align: middle;\n",
       "    }\n",
       "\n",
       "    .dataframe tbody tr th {\n",
       "        vertical-align: top;\n",
       "    }\n",
       "\n",
       "    .dataframe thead th {\n",
       "        text-align: right;\n",
       "    }\n",
       "</style>\n",
       "<table border=\"1\" class=\"dataframe\">\n",
       "  <thead>\n",
       "    <tr style=\"text-align: right;\">\n",
       "      <th></th>\n",
       "      <th>PassengerId</th>\n",
       "      <th>Survived</th>\n",
       "      <th>Pclass</th>\n",
       "      <th>Name</th>\n",
       "      <th>Sex</th>\n",
       "      <th>Age</th>\n",
       "      <th>SibSp</th>\n",
       "      <th>Parch</th>\n",
       "      <th>Ticket</th>\n",
       "      <th>Fare</th>\n",
       "      <th>Cabin</th>\n",
       "      <th>Embarked</th>\n",
       "    </tr>\n",
       "  </thead>\n",
       "  <tbody>\n",
       "    <tr>\n",
       "      <th>0</th>\n",
       "      <td>1</td>\n",
       "      <td>0</td>\n",
       "      <td>3</td>\n",
       "      <td>Braund, Mr. Owen Harris</td>\n",
       "      <td>male</td>\n",
       "      <td>22.0</td>\n",
       "      <td>1</td>\n",
       "      <td>0</td>\n",
       "      <td>A/5 21171</td>\n",
       "      <td>7.2500</td>\n",
       "      <td>NaN</td>\n",
       "      <td>S</td>\n",
       "    </tr>\n",
       "    <tr>\n",
       "      <th>1</th>\n",
       "      <td>2</td>\n",
       "      <td>1</td>\n",
       "      <td>1</td>\n",
       "      <td>Cumings, Mrs. John Bradley (Florence Briggs Th...</td>\n",
       "      <td>female</td>\n",
       "      <td>38.0</td>\n",
       "      <td>1</td>\n",
       "      <td>0</td>\n",
       "      <td>PC 17599</td>\n",
       "      <td>71.2833</td>\n",
       "      <td>C85</td>\n",
       "      <td>C</td>\n",
       "    </tr>\n",
       "    <tr>\n",
       "      <th>2</th>\n",
       "      <td>3</td>\n",
       "      <td>1</td>\n",
       "      <td>3</td>\n",
       "      <td>Heikkinen, Miss. Laina</td>\n",
       "      <td>female</td>\n",
       "      <td>26.0</td>\n",
       "      <td>0</td>\n",
       "      <td>0</td>\n",
       "      <td>STON/O2. 3101282</td>\n",
       "      <td>7.9250</td>\n",
       "      <td>NaN</td>\n",
       "      <td>S</td>\n",
       "    </tr>\n",
       "    <tr>\n",
       "      <th>3</th>\n",
       "      <td>4</td>\n",
       "      <td>1</td>\n",
       "      <td>1</td>\n",
       "      <td>Futrelle, Mrs. Jacques Heath (Lily May Peel)</td>\n",
       "      <td>female</td>\n",
       "      <td>35.0</td>\n",
       "      <td>1</td>\n",
       "      <td>0</td>\n",
       "      <td>113803</td>\n",
       "      <td>53.1000</td>\n",
       "      <td>C123</td>\n",
       "      <td>S</td>\n",
       "    </tr>\n",
       "    <tr>\n",
       "      <th>4</th>\n",
       "      <td>5</td>\n",
       "      <td>0</td>\n",
       "      <td>3</td>\n",
       "      <td>Allen, Mr. William Henry</td>\n",
       "      <td>male</td>\n",
       "      <td>35.0</td>\n",
       "      <td>0</td>\n",
       "      <td>0</td>\n",
       "      <td>373450</td>\n",
       "      <td>8.0500</td>\n",
       "      <td>NaN</td>\n",
       "      <td>S</td>\n",
       "    </tr>\n",
       "  </tbody>\n",
       "</table>\n",
       "</div>"
      ],
      "text/plain": [
       "   PassengerId  Survived  Pclass  \\\n",
       "0            1         0       3   \n",
       "1            2         1       1   \n",
       "2            3         1       3   \n",
       "3            4         1       1   \n",
       "4            5         0       3   \n",
       "\n",
       "                                                Name     Sex   Age  SibSp  \\\n",
       "0                            Braund, Mr. Owen Harris    male  22.0      1   \n",
       "1  Cumings, Mrs. John Bradley (Florence Briggs Th...  female  38.0      1   \n",
       "2                             Heikkinen, Miss. Laina  female  26.0      0   \n",
       "3       Futrelle, Mrs. Jacques Heath (Lily May Peel)  female  35.0      1   \n",
       "4                           Allen, Mr. William Henry    male  35.0      0   \n",
       "\n",
       "   Parch            Ticket     Fare Cabin Embarked  \n",
       "0      0         A/5 21171   7.2500   NaN        S  \n",
       "1      0          PC 17599  71.2833   C85        C  \n",
       "2      0  STON/O2. 3101282   7.9250   NaN        S  \n",
       "3      0            113803  53.1000  C123        S  \n",
       "4      0            373450   8.0500   NaN        S  "
      ]
     },
     "execution_count": 3,
     "metadata": {},
     "output_type": "execute_result"
    }
   ],
   "source": [
    "titanic_df.head()"
   ]
  },
  {
   "cell_type": "code",
   "execution_count": 4,
   "id": "0f9612b0-5550-4637-b1f5-bd968f49f308",
   "metadata": {},
   "outputs": [
    {
     "name": "stdout",
     "output_type": "stream",
     "text": [
      "<class 'pandas.core.frame.DataFrame'>\n",
      "RangeIndex: 891 entries, 0 to 890\n",
      "Data columns (total 12 columns):\n",
      " #   Column       Non-Null Count  Dtype  \n",
      "---  ------       --------------  -----  \n",
      " 0   PassengerId  891 non-null    int64  \n",
      " 1   Survived     891 non-null    int64  \n",
      " 2   Pclass       891 non-null    int64  \n",
      " 3   Name         891 non-null    object \n",
      " 4   Sex          891 non-null    object \n",
      " 5   Age          714 non-null    float64\n",
      " 6   SibSp        891 non-null    int64  \n",
      " 7   Parch        891 non-null    int64  \n",
      " 8   Ticket       891 non-null    object \n",
      " 9   Fare         891 non-null    float64\n",
      " 10  Cabin        204 non-null    object \n",
      " 11  Embarked     889 non-null    object \n",
      "dtypes: float64(2), int64(5), object(5)\n",
      "memory usage: 83.7+ KB\n"
     ]
    }
   ],
   "source": [
    "titanic_df.info()"
   ]
  },
  {
   "cell_type": "markdown",
   "id": "9953cb57-eead-4159-a51f-daf4a9455132",
   "metadata": {},
   "source": [
    "<h4>In Age and cabin there are so many null values</h4>"
   ]
  },
  {
   "cell_type": "code",
   "execution_count": 5,
   "id": "9f052113-bc6e-4cdb-8eb4-b428c8a90d45",
   "metadata": {},
   "outputs": [
    {
     "data": {
      "text/html": [
       "<div>\n",
       "<style scoped>\n",
       "    .dataframe tbody tr th:only-of-type {\n",
       "        vertical-align: middle;\n",
       "    }\n",
       "\n",
       "    .dataframe tbody tr th {\n",
       "        vertical-align: top;\n",
       "    }\n",
       "\n",
       "    .dataframe thead th {\n",
       "        text-align: right;\n",
       "    }\n",
       "</style>\n",
       "<table border=\"1\" class=\"dataframe\">\n",
       "  <thead>\n",
       "    <tr style=\"text-align: right;\">\n",
       "      <th></th>\n",
       "      <th>PassengerId</th>\n",
       "      <th>Survived</th>\n",
       "      <th>Pclass</th>\n",
       "      <th>Age</th>\n",
       "      <th>SibSp</th>\n",
       "      <th>Parch</th>\n",
       "      <th>Fare</th>\n",
       "    </tr>\n",
       "  </thead>\n",
       "  <tbody>\n",
       "    <tr>\n",
       "      <th>count</th>\n",
       "      <td>891.000000</td>\n",
       "      <td>891.000000</td>\n",
       "      <td>891.000000</td>\n",
       "      <td>714.000000</td>\n",
       "      <td>891.000000</td>\n",
       "      <td>891.000000</td>\n",
       "      <td>891.000000</td>\n",
       "    </tr>\n",
       "    <tr>\n",
       "      <th>mean</th>\n",
       "      <td>446.000000</td>\n",
       "      <td>0.383838</td>\n",
       "      <td>2.308642</td>\n",
       "      <td>29.699118</td>\n",
       "      <td>0.523008</td>\n",
       "      <td>0.381594</td>\n",
       "      <td>32.204208</td>\n",
       "    </tr>\n",
       "    <tr>\n",
       "      <th>std</th>\n",
       "      <td>257.353842</td>\n",
       "      <td>0.486592</td>\n",
       "      <td>0.836071</td>\n",
       "      <td>14.526497</td>\n",
       "      <td>1.102743</td>\n",
       "      <td>0.806057</td>\n",
       "      <td>49.693429</td>\n",
       "    </tr>\n",
       "    <tr>\n",
       "      <th>min</th>\n",
       "      <td>1.000000</td>\n",
       "      <td>0.000000</td>\n",
       "      <td>1.000000</td>\n",
       "      <td>0.420000</td>\n",
       "      <td>0.000000</td>\n",
       "      <td>0.000000</td>\n",
       "      <td>0.000000</td>\n",
       "    </tr>\n",
       "    <tr>\n",
       "      <th>25%</th>\n",
       "      <td>223.500000</td>\n",
       "      <td>0.000000</td>\n",
       "      <td>2.000000</td>\n",
       "      <td>20.125000</td>\n",
       "      <td>0.000000</td>\n",
       "      <td>0.000000</td>\n",
       "      <td>7.910400</td>\n",
       "    </tr>\n",
       "    <tr>\n",
       "      <th>50%</th>\n",
       "      <td>446.000000</td>\n",
       "      <td>0.000000</td>\n",
       "      <td>3.000000</td>\n",
       "      <td>28.000000</td>\n",
       "      <td>0.000000</td>\n",
       "      <td>0.000000</td>\n",
       "      <td>14.454200</td>\n",
       "    </tr>\n",
       "    <tr>\n",
       "      <th>75%</th>\n",
       "      <td>668.500000</td>\n",
       "      <td>1.000000</td>\n",
       "      <td>3.000000</td>\n",
       "      <td>38.000000</td>\n",
       "      <td>1.000000</td>\n",
       "      <td>0.000000</td>\n",
       "      <td>31.000000</td>\n",
       "    </tr>\n",
       "    <tr>\n",
       "      <th>max</th>\n",
       "      <td>891.000000</td>\n",
       "      <td>1.000000</td>\n",
       "      <td>3.000000</td>\n",
       "      <td>80.000000</td>\n",
       "      <td>8.000000</td>\n",
       "      <td>6.000000</td>\n",
       "      <td>512.329200</td>\n",
       "    </tr>\n",
       "  </tbody>\n",
       "</table>\n",
       "</div>"
      ],
      "text/plain": [
       "       PassengerId    Survived      Pclass         Age       SibSp  \\\n",
       "count   891.000000  891.000000  891.000000  714.000000  891.000000   \n",
       "mean    446.000000    0.383838    2.308642   29.699118    0.523008   \n",
       "std     257.353842    0.486592    0.836071   14.526497    1.102743   \n",
       "min       1.000000    0.000000    1.000000    0.420000    0.000000   \n",
       "25%     223.500000    0.000000    2.000000   20.125000    0.000000   \n",
       "50%     446.000000    0.000000    3.000000   28.000000    0.000000   \n",
       "75%     668.500000    1.000000    3.000000   38.000000    1.000000   \n",
       "max     891.000000    1.000000    3.000000   80.000000    8.000000   \n",
       "\n",
       "            Parch        Fare  \n",
       "count  891.000000  891.000000  \n",
       "mean     0.381594   32.204208  \n",
       "std      0.806057   49.693429  \n",
       "min      0.000000    0.000000  \n",
       "25%      0.000000    7.910400  \n",
       "50%      0.000000   14.454200  \n",
       "75%      0.000000   31.000000  \n",
       "max      6.000000  512.329200  "
      ]
     },
     "execution_count": 5,
     "metadata": {},
     "output_type": "execute_result"
    }
   ],
   "source": [
    "titanic_df.describe()"
   ]
  },
  {
   "cell_type": "markdown",
   "id": "b5ffedb7-e416-48f6-8087-2d6c7e8e092b",
   "metadata": {},
   "source": [
    "<ol>\n",
    "    <li>Total passenger = 891</li>\n",
    "    <li>38 % passenger survived</li>\n",
    "    <li>About 75 % passenger belongs to 3rd class</li>\n",
    "    <li>Mostly young passenger near 28 age</li>\n",
    "    <li>Most passengers traveled alone or with one relative.</li>\n",
    "</ol>"
   ]
  },
  {
   "cell_type": "code",
   "execution_count": 6,
   "id": "55e3cc77-2bc0-40f4-9d7f-580a9e7e5b3f",
   "metadata": {},
   "outputs": [
    {
     "data": {
      "text/plain": [
       "<Axes: >"
      ]
     },
     "execution_count": 6,
     "metadata": {},
     "output_type": "execute_result"
    },
    {
     "data": {
      "image/png": "[encoded data removed]",
      "text/plain": [
       "<Figure size 640x480 with 2 Axes>"
      ]
     },
     "metadata": {},
     "output_type": "display_data"
    }
   ],
   "source": [
    "sns.heatmap(titanic_df.isnull(), yticklabels= False, cbar= True,cmap='coolwarm')"
   ]
  },
  {
   "cell_type": "markdown",
   "id": "519525dc-a390-4fd5-9e57-b0921225c563",
   "metadata": {},
   "source": [
    "<h2> Male/ Female Survival </h2>"
   ]
  },
  {
   "cell_type": "code",
   "execution_count": 7,
   "id": "0c9d44ea-9e86-482d-9cf6-4201c6e9fd49",
   "metadata": {},
   "outputs": [
    {
     "data": {
      "text/plain": [
       "<Axes: xlabel='Sex', ylabel='count'>"
      ]
     },
     "execution_count": 7,
     "metadata": {},
     "output_type": "execute_result"
    },
    {
     "data": {
      "image/png": "[encoded data removed]",
      "text/plain": [
       "<Figure size 640x480 with 1 Axes>"
      ]
     },
     "metadata": {},
     "output_type": "display_data"
    }
   ],
   "source": [
    "sns.countplot(x='Sex', data=titanic_df )"
   ]
  },
  {
   "cell_type": "code",
   "execution_count": 8,
   "id": "a90b1c83-a409-48ff-9e25-34ea2a6f8197",
   "metadata": {},
   "outputs": [
    {
     "data": {
      "text/plain": [
       "Sex\n",
       "male      577\n",
       "female    314\n",
       "Name: count, dtype: int64"
      ]
     },
     "execution_count": 8,
     "metadata": {},
     "output_type": "execute_result"
    }
   ],
   "source": [
    "titanic_df['Sex'].value_counts()\n"
   ]
  },
  {
   "cell_type": "code",
   "execution_count": 9,
   "id": "a9208007-a45b-4cce-83f1-cfe55a851fe8",
   "metadata": {},
   "outputs": [
    {
     "name": "stdout",
     "output_type": "stream",
     "text": [
      "0.6475869809203143\n"
     ]
    }
   ],
   "source": [
    "print(577/891)"
   ]
  },
  {
   "cell_type": "markdown",
   "id": "097a4e55-11c5-47e5-a8f8-66c9b2ef4b1a",
   "metadata": {},
   "source": [
    "<h3>So in Ship 65 % are male, male are double of female</h3>"
   ]
  },
  {
   "cell_type": "code",
   "execution_count": 10,
   "id": "2f4387ad-0c9e-4a59-88f8-f4f1f4f4badc",
   "metadata": {},
   "outputs": [
    {
     "data": {
      "text/plain": [
       "Text(0.5, 1.0, 'Survival Vs Sex')"
      ]
     },
     "execution_count": 10,
     "metadata": {},
     "output_type": "execute_result"
    },
    {
     "data": {
      "image/png": "[encoded data removed]",
      "text/plain": [
       "<Figure size 640x480 with 1 Axes>"
      ]
     },
     "metadata": {},
     "output_type": "display_data"
    }
   ],
   "source": [
    "sns.countplot(x='Sex', data=titanic_df , hue = 'Survived', palette='viridis')\n",
    "plt.title('Survival Vs Sex')"
   ]
  },
  {
   "cell_type": "code",
   "execution_count": 11,
   "id": "9edb6f6e-be38-49c3-930f-9ccac07a5f2f",
   "metadata": {},
   "outputs": [
    {
     "data": {
      "text/plain": [
       "Sex     Survived\n",
       "female  0            81\n",
       "        1           233\n",
       "male    0           468\n",
       "        1           109\n",
       "dtype: int64"
      ]
     },
     "execution_count": 11,
     "metadata": {},
     "output_type": "execute_result"
    }
   ],
   "source": [
    "titanic_df.groupby(['Sex', 'Survived']).size()\n"
   ]
  },
  {
   "cell_type": "code",
   "execution_count": 12,
   "id": "0f748a56-49df-40dc-9d13-ba3f2d5e8f69",
   "metadata": {},
   "outputs": [
    {
     "name": "stdout",
     "output_type": "stream",
     "text": [
      "Female % survival = 74.20382165605095, male % survival = 18.890814558058924\n"
     ]
    }
   ],
   "source": [
    "print ( f\"Female % survival = {(233/314) * 100 }, male % survival = {(109/577) * 100 }\")"
   ]
  },
  {
   "cell_type": "markdown",
   "id": "780ad443-1417-4106-a298-a26ee391e06d",
   "metadata": {},
   "source": [
    "<h3> Survival % is high in Female about 4 times of male</h3>"
   ]
  },
  {
   "cell_type": "markdown",
   "id": "dd0184df-7c36-40ff-be98-01d1a1958bb7",
   "metadata": {},
   "source": [
    "<h1>Survival Vs Class</h1>"
   ]
  },
  {
   "cell_type": "code",
   "execution_count": 13,
   "id": "f7645bac-7e42-4c3a-8035-586571290644",
   "metadata": {},
   "outputs": [
    {
     "data": {
      "text/plain": [
       "Pclass\n",
       "3    491\n",
       "1    216\n",
       "2    184\n",
       "Name: count, dtype: int64"
      ]
     },
     "execution_count": 13,
     "metadata": {},
     "output_type": "execute_result"
    }
   ],
   "source": [
    "titanic_df['Pclass'].value_counts()"
   ]
  },
  {
   "cell_type": "code",
   "execution_count": 14,
   "id": "7e05c6f5-fd0b-4bcf-a782-393f8aeeccae",
   "metadata": {},
   "outputs": [
    {
     "name": "stdout",
     "output_type": "stream",
     "text": [
      "0.5510662177328844\n",
      "0.24242424242424243\n",
      "0.20650953984287318\n"
     ]
    }
   ],
   "source": [
    "print( 491/891)\n",
    "print( 216/891)\n",
    "print(184/891)"
   ]
  },
  {
   "cell_type": "markdown",
   "id": "69cebf8a-3a8c-4a73-9823-327384e68bca",
   "metadata": {},
   "source": [
    "<ol>\n",
    "    <li>3rd Class - 55 %</li>\n",
    "    <li>2nd Class - 20 %</li>\n",
    "    <li>1st Class - 25 %</li>\n",
    "</ol>\n",
    "<h3> more than half of the passenger are 3rd Class </h3>"
   ]
  },
  {
   "cell_type": "code",
   "execution_count": 15,
   "id": "9c78d386-daca-4386-a7c1-d5d8e5438204",
   "metadata": {},
   "outputs": [
    {
     "data": {
      "text/plain": [
       "Text(0.5, 1.0, 'Survival Vs Class')"
      ]
     },
     "execution_count": 15,
     "metadata": {},
     "output_type": "execute_result"
    },
    {
     "data": {
      "image/png": "[encoded data removed]",
      "text/plain": [
       "<Figure size 640x480 with 1 Axes>"
      ]
     },
     "metadata": {},
     "output_type": "display_data"
    }
   ],
   "source": [
    "sns.countplot(x='Pclass', data=titanic_df , hue = 'Survived', palette='viridis')\n",
    "plt.title('Survival Vs Class')"
   ]
  },
  {
   "cell_type": "code",
   "execution_count": 16,
   "id": "b9937991-d010-4a2f-8bd3-d156c21d15fe",
   "metadata": {},
   "outputs": [
    {
     "data": {
      "text/plain": [
       "Pclass  Survived\n",
       "1       0            80\n",
       "        1           136\n",
       "2       0            97\n",
       "        1            87\n",
       "3       0           372\n",
       "        1           119\n",
       "dtype: int64"
      ]
     },
     "execution_count": 16,
     "metadata": {},
     "output_type": "execute_result"
    }
   ],
   "source": [
    "titanic_df.groupby(['Pclass', 'Survived']).size()"
   ]
  },
  {
   "cell_type": "code",
   "execution_count": 17,
   "id": "c7c2457a-d594-4cd8-8b5b-84e792ce18b6",
   "metadata": {},
   "outputs": [
    {
     "name": "stdout",
     "output_type": "stream",
     "text": [
      "3rd class survival % - 24.236252545824847 2nd class survival % - 47.28260869565217  1st class survival % - 62.96296296296296\n"
     ]
    }
   ],
   "source": [
    "print(f\"3rd class survival % - { (119/491)*100} 2nd class survival % - { (87/184)*100}  1st class survival % - { (136/216)*100}\")"
   ]
  },
  {
   "cell_type": "code",
   "execution_count": 18,
   "id": "bf4214c5-5af2-421f-a4ab-b005732bc5bd",
   "metadata": {},
   "outputs": [
    {
     "name": "stdout",
     "output_type": "stream",
     "text": [
      "total died = 549\n",
      "0.6775956284153005\n",
      "0.14571948998178508\n"
     ]
    }
   ],
   "source": [
    "print(f\"total died = {80+97+372}\")\n",
    "print(372/549)\n",
    "print(80/549)"
   ]
  },
  {
   "cell_type": "markdown",
   "id": "c299dc1b-4186-4e06-9a04-34bcdfe124c3",
   "metadata": {},
   "source": [
    "<ol>\n",
    "    <li>Survival % is minimum in 3rd class - 25 % , high in - 1st class - 62 %</li>\n",
    "    <li>In 2nd Class half of the people were died</li>\n",
    "    <li>Passenger who died , mostly belongs to 3rd class - 67 %</li>\n",
    "    <li> In First Class only 15 % were died</li>\n",
    "</ol>"
   ]
  },
  {
   "cell_type": "code",
   "execution_count": 19,
   "id": "fefdab77-ff9e-4cfe-9e5d-49f680d8da8d",
   "metadata": {},
   "outputs": [
    {
     "data": {
      "text/html": [
       "<div>\n",
       "<style scoped>\n",
       "    .dataframe tbody tr th:only-of-type {\n",
       "        vertical-align: middle;\n",
       "    }\n",
       "\n",
       "    .dataframe tbody tr th {\n",
       "        vertical-align: top;\n",
       "    }\n",
       "\n",
       "    .dataframe thead th {\n",
       "        text-align: right;\n",
       "    }\n",
       "</style>\n",
       "<table border=\"1\" class=\"dataframe\">\n",
       "  <thead>\n",
       "    <tr style=\"text-align: right;\">\n",
       "      <th></th>\n",
       "      <th>Survived</th>\n",
       "      <th>0</th>\n",
       "      <th>1</th>\n",
       "      <th>Total</th>\n",
       "    </tr>\n",
       "    <tr>\n",
       "      <th>Sex</th>\n",
       "      <th>Pclass</th>\n",
       "      <th></th>\n",
       "      <th></th>\n",
       "      <th></th>\n",
       "    </tr>\n",
       "  </thead>\n",
       "  <tbody>\n",
       "    <tr>\n",
       "      <th rowspan=\"3\" valign=\"top\">female</th>\n",
       "      <th>1</th>\n",
       "      <td>3</td>\n",
       "      <td>91</td>\n",
       "      <td>94</td>\n",
       "    </tr>\n",
       "    <tr>\n",
       "      <th>2</th>\n",
       "      <td>6</td>\n",
       "      <td>70</td>\n",
       "      <td>76</td>\n",
       "    </tr>\n",
       "    <tr>\n",
       "      <th>3</th>\n",
       "      <td>72</td>\n",
       "      <td>72</td>\n",
       "      <td>144</td>\n",
       "    </tr>\n",
       "    <tr>\n",
       "      <th rowspan=\"3\" valign=\"top\">male</th>\n",
       "      <th>1</th>\n",
       "      <td>77</td>\n",
       "      <td>45</td>\n",
       "      <td>122</td>\n",
       "    </tr>\n",
       "    <tr>\n",
       "      <th>2</th>\n",
       "      <td>91</td>\n",
       "      <td>17</td>\n",
       "      <td>108</td>\n",
       "    </tr>\n",
       "    <tr>\n",
       "      <th>3</th>\n",
       "      <td>300</td>\n",
       "      <td>47</td>\n",
       "      <td>347</td>\n",
       "    </tr>\n",
       "    <tr>\n",
       "      <th>Total</th>\n",
       "      <th></th>\n",
       "      <td>549</td>\n",
       "      <td>342</td>\n",
       "      <td>891</td>\n",
       "    </tr>\n",
       "  </tbody>\n",
       "</table>\n",
       "</div>"
      ],
      "text/plain": [
       "Survived         0    1  Total\n",
       "Sex    Pclass                 \n",
       "female 1         3   91     94\n",
       "       2         6   70     76\n",
       "       3        72   72    144\n",
       "male   1        77   45    122\n",
       "       2        91   17    108\n",
       "       3       300   47    347\n",
       "Total          549  342    891"
      ]
     },
     "execution_count": 19,
     "metadata": {},
     "output_type": "execute_result"
    }
   ],
   "source": [
    "pd.crosstab([titanic_df['Sex'], titanic_df['Pclass']], titanic_df['Survived'], margins=True, margins_name='Total')\n"
   ]
  },
  {
   "cell_type": "code",
   "execution_count": 20,
   "id": "1435186e-676c-4c51-b6ff-f45defcf91a2",
   "metadata": {},
   "outputs": [
    {
     "name": "stdout",
     "output_type": "stream",
     "text": [
      " 1 st class female surival 96.80851063829788 2nd class female survival 92.10526315789474\n",
      " 1 st class male survival 36.885245901639344 2nd class male survival 15.74074074074074 3rd class male survival 13.544668587896252\n"
     ]
    }
   ],
   "source": [
    "print(f\" 1 st class female surival {(91/94) *100} 2nd class female survival { (70/76)* 100}\")\n",
    "print(f\" 1 st class male survival { (45/122) *100} 2nd class male survival { (17/108) * 100} 3rd class male survival {( 47/347)*100}\")"
   ]
  },
  {
   "cell_type": "code",
   "execution_count": 21,
   "id": "26c5b9fd-05a2-4fbe-807a-cc76a09f6854",
   "metadata": {},
   "outputs": [
    {
     "name": "stdout",
     "output_type": "stream",
     "text": [
      "1 st class female0.4351851851851852 2nd class female 0.2676056338028169 3rd class female 0.29327902240325865\n"
     ]
    }
   ],
   "source": [
    "print(f\"1 st class female{94/216} 2nd class female {76/284} 3rd class female {144/491}\")"
   ]
  },
  {
   "cell_type": "markdown",
   "id": "9140d9a1-b0ac-4dc8-9a48-b91b2926b9c6",
   "metadata": {},
   "source": [
    "<h3>Female 1st & 2nd class had very high survival rates (97%, 92%)\n",
    "\n",
    "Male 3rd class had the lowest survival rate (13.5%)</h3>\n",
    "<h3>Female % is high in !st class 43.5 % </h3>"
   ]
  },
  {
   "cell_type": "markdown",
   "id": "73c24a02-4085-4c09-90fa-939b01ebe1af",
   "metadata": {},
   "source": [
    "<h1>Age Vs Survival </h1>"
   ]
  },
  {
   "cell_type": "code",
   "execution_count": 22,
   "id": "c24d9ecb-db9b-4e35-afa7-9b44731929cd",
   "metadata": {},
   "outputs": [
    {
     "data": {
      "text/plain": [
       "<Axes: >"
      ]
     },
     "execution_count": 22,
     "metadata": {},
     "output_type": "execute_result"
    },
    {
     "data": {
      "image/png": "[encoded data removed]",
      "text/plain": [
       "<Figure size 640x480 with 1 Axes>"
      ]
     },
     "metadata": {},
     "output_type": "display_data"
    }
   ],
   "source": [
    "titanic_df['Age'].hist(bins=80)"
   ]
  },
  {
   "cell_type": "code",
   "execution_count": 23,
   "id": "56d1994d-a18c-4153-87fd-03fc8084edfb",
   "metadata": {},
   "outputs": [
    {
     "data": {
      "image/png": "[encoded data removed]",
      "text/plain": [
       "<Figure size 640x480 with 1 Axes>"
      ]
     },
     "metadata": {},
     "output_type": "display_data"
    }
   ],
   "source": [
    "titanic_df['AgeGroup'] = pd.cut(titanic_df['Age'], bins=[0,10, 20, 30, 40, 50,60,70, 80])\n",
    "\n",
    "sns.countplot(x='AgeGroup', hue='Survived', data=titanic_df, palette='coolwarm')\n",
    "plt.title('Survival by Age Group')\n",
    "plt.xticks(rotation=45)\n",
    "plt.show()\n"
   ]
  },
  {
   "cell_type": "markdown",
   "id": "e4a48109-76b7-456d-81ca-c5f3622cfb9f",
   "metadata": {},
   "source": [
    "<h3>persons who died are young</h3>"
   ]
  },
  {
   "cell_type": "markdown",
   "id": "409e81da-5f72-4c07-ba38-3e04880daa35",
   "metadata": {},
   "source": [
    "<h1>Correlation Matrix (Sex vs Class vs Survival)<h1>"
   ]
  },
  {
   "cell_type": "code",
   "execution_count": 24,
   "id": "d2d96ad1-8461-4d8f-a9a4-db2f3e8edb42",
   "metadata": {},
   "outputs": [],
   "source": [
    "#Convert Sex to numeric ( male = 0, female = 1)\n",
    "titanic_df['Sex_num'] = titanic_df['Sex'].map({'male': 0, 'female': 1})"
   ]
  },
  {
   "cell_type": "code",
   "execution_count": 25,
   "id": "b5a34297-a93c-4f86-8670-36c236d2b3d6",
   "metadata": {},
   "outputs": [
    {
     "name": "stdout",
     "output_type": "stream",
     "text": [
      "           Sex_num    Pclass  Survived\n",
      "Sex_num   1.000000 -0.131900  0.543351\n",
      "Pclass   -0.131900  1.000000 -0.338481\n",
      "Survived  0.543351 -0.338481  1.000000\n"
     ]
    }
   ],
   "source": [
    "corr_matrix = titanic_df[['Sex_num', 'Pclass', 'Survived']].corr()\n",
    "print(corr_matrix)\n"
   ]
  },
  {
   "cell_type": "code",
   "execution_count": 26,
   "id": "fdfb5f79-f4a3-4e85-9069-24da9ff2abef",
   "metadata": {},
   "outputs": [
    {
     "data": {
      "image/png": "[encoded data removed]",
      "text/plain": [
       "<Figure size 640x480 with 2 Axes>"
      ]
     },
     "metadata": {},
     "output_type": "display_data"
    }
   ],
   "source": [
    "\n",
    "sns.heatmap(corr_matrix, annot=True, cmap='coolwarm')\n",
    "plt.title(\"Correlation Matrix: Sex, Pclass, Survived\")\n",
    "plt.show()"
   ]
  },
  {
   "cell_type": "markdown",
   "id": "7b9abeb1-cc2a-4488-a624-a1c5e50e8caa",
   "metadata": {},
   "source": [
    "<ol>\n",
    "    <li>Female more survive 54 %</li>\n",
    "    <li> passenger who belongs to higher class more survive </li>\n",
    "</ol>"
   ]
  },
  {
   "cell_type": "code",
   "execution_count": 27,
   "id": "1768a1d9-a008-4c06-92a2-5e79cca452cb",
   "metadata": {},
   "outputs": [
    {
     "name": "stdout",
     "output_type": "stream",
     "text": [
      "<class 'pandas.core.frame.DataFrame'>\n",
      "Index: 714 entries, 0 to 890\n",
      "Data columns (total 14 columns):\n",
      " #   Column       Non-Null Count  Dtype   \n",
      "---  ------       --------------  -----   \n",
      " 0   PassengerId  714 non-null    int64   \n",
      " 1   Survived     714 non-null    int64   \n",
      " 2   Pclass       714 non-null    int64   \n",
      " 3   Name         714 non-null    object  \n",
      " 4   Sex          714 non-null    object  \n",
      " 5   Age          714 non-null    float64 \n",
      " 6   SibSp        714 non-null    int64   \n",
      " 7   Parch        714 non-null    int64   \n",
      " 8   Ticket       714 non-null    object  \n",
      " 9   Fare         714 non-null    float64 \n",
      " 10  Cabin        185 non-null    object  \n",
      " 11  Embarked     712 non-null    object  \n",
      " 12  AgeGroup     714 non-null    category\n",
      " 13  Sex_num      714 non-null    int64   \n",
      "dtypes: category(1), float64(2), int64(6), object(5)\n",
      "memory usage: 79.2+ KB\n"
     ]
    }
   ],
   "source": [
    "# Check missing before\n",
    "titanic_df = titanic_df.dropna(subset=['Age'])\n",
    "titanic_df.info()\n"
   ]
  },
  {
   "cell_type": "code",
   "execution_count": 28,
   "id": "93abf23e-08b4-42f5-a7c0-de445eee8f94",
   "metadata": {},
   "outputs": [
    {
     "data": {
      "text/html": [
       "<div>\n",
       "<style scoped>\n",
       "    .dataframe tbody tr th:only-of-type {\n",
       "        vertical-align: middle;\n",
       "    }\n",
       "\n",
       "    .dataframe tbody tr th {\n",
       "        vertical-align: top;\n",
       "    }\n",
       "\n",
       "    .dataframe thead th {\n",
       "        text-align: right;\n",
       "    }\n",
       "</style>\n",
       "<table border=\"1\" class=\"dataframe\">\n",
       "  <thead>\n",
       "    <tr style=\"text-align: right;\">\n",
       "      <th></th>\n",
       "      <th>PassengerId</th>\n",
       "      <th>Survived</th>\n",
       "      <th>Pclass</th>\n",
       "      <th>Age</th>\n",
       "      <th>SibSp</th>\n",
       "      <th>Parch</th>\n",
       "      <th>Fare</th>\n",
       "      <th>Sex_num</th>\n",
       "    </tr>\n",
       "  </thead>\n",
       "  <tbody>\n",
       "    <tr>\n",
       "      <th>count</th>\n",
       "      <td>714.000000</td>\n",
       "      <td>714.000000</td>\n",
       "      <td>714.000000</td>\n",
       "      <td>714.000000</td>\n",
       "      <td>714.000000</td>\n",
       "      <td>714.000000</td>\n",
       "      <td>714.000000</td>\n",
       "      <td>714.000000</td>\n",
       "    </tr>\n",
       "    <tr>\n",
       "      <th>mean</th>\n",
       "      <td>448.582633</td>\n",
       "      <td>0.406162</td>\n",
       "      <td>2.236695</td>\n",
       "      <td>29.699118</td>\n",
       "      <td>0.512605</td>\n",
       "      <td>0.431373</td>\n",
       "      <td>34.694514</td>\n",
       "      <td>0.365546</td>\n",
       "    </tr>\n",
       "    <tr>\n",
       "      <th>std</th>\n",
       "      <td>259.119524</td>\n",
       "      <td>0.491460</td>\n",
       "      <td>0.838250</td>\n",
       "      <td>14.526497</td>\n",
       "      <td>0.929783</td>\n",
       "      <td>0.853289</td>\n",
       "      <td>52.918930</td>\n",
       "      <td>0.481921</td>\n",
       "    </tr>\n",
       "    <tr>\n",
       "      <th>min</th>\n",
       "      <td>1.000000</td>\n",
       "      <td>0.000000</td>\n",
       "      <td>1.000000</td>\n",
       "      <td>0.420000</td>\n",
       "      <td>0.000000</td>\n",
       "      <td>0.000000</td>\n",
       "      <td>0.000000</td>\n",
       "      <td>0.000000</td>\n",
       "    </tr>\n",
       "    <tr>\n",
       "      <th>25%</th>\n",
       "      <td>222.250000</td>\n",
       "      <td>0.000000</td>\n",
       "      <td>1.000000</td>\n",
       "      <td>20.125000</td>\n",
       "      <td>0.000000</td>\n",
       "      <td>0.000000</td>\n",
       "      <td>8.050000</td>\n",
       "      <td>0.000000</td>\n",
       "    </tr>\n",
       "    <tr>\n",
       "      <th>50%</th>\n",
       "      <td>445.000000</td>\n",
       "      <td>0.000000</td>\n",
       "      <td>2.000000</td>\n",
       "      <td>28.000000</td>\n",
       "      <td>0.000000</td>\n",
       "      <td>0.000000</td>\n",
       "      <td>15.741700</td>\n",
       "      <td>0.000000</td>\n",
       "    </tr>\n",
       "    <tr>\n",
       "      <th>75%</th>\n",
       "      <td>677.750000</td>\n",
       "      <td>1.000000</td>\n",
       "      <td>3.000000</td>\n",
       "      <td>38.000000</td>\n",
       "      <td>1.000000</td>\n",
       "      <td>1.000000</td>\n",
       "      <td>33.375000</td>\n",
       "      <td>1.000000</td>\n",
       "    </tr>\n",
       "    <tr>\n",
       "      <th>max</th>\n",
       "      <td>891.000000</td>\n",
       "      <td>1.000000</td>\n",
       "      <td>3.000000</td>\n",
       "      <td>80.000000</td>\n",
       "      <td>5.000000</td>\n",
       "      <td>6.000000</td>\n",
       "      <td>512.329200</td>\n",
       "      <td>1.000000</td>\n",
       "    </tr>\n",
       "  </tbody>\n",
       "</table>\n",
       "</div>"
      ],
      "text/plain": [
       "       PassengerId    Survived      Pclass         Age       SibSp  \\\n",
       "count   714.000000  714.000000  714.000000  714.000000  714.000000   \n",
       "mean    448.582633    0.406162    2.236695   29.699118    0.512605   \n",
       "std     259.119524    0.491460    0.838250   14.526497    0.929783   \n",
       "min       1.000000    0.000000    1.000000    0.420000    0.000000   \n",
       "25%     222.250000    0.000000    1.000000   20.125000    0.000000   \n",
       "50%     445.000000    0.000000    2.000000   28.000000    0.000000   \n",
       "75%     677.750000    1.000000    3.000000   38.000000    1.000000   \n",
       "max     891.000000    1.000000    3.000000   80.000000    5.000000   \n",
       "\n",
       "            Parch        Fare     Sex_num  \n",
       "count  714.000000  714.000000  714.000000  \n",
       "mean     0.431373   34.694514    0.365546  \n",
       "std      0.853289   52.918930    0.481921  \n",
       "min      0.000000    0.000000    0.000000  \n",
       "25%      0.000000    8.050000    0.000000  \n",
       "50%      0.000000   15.741700    0.000000  \n",
       "75%      1.000000   33.375000    1.000000  \n",
       "max      6.000000  512.329200    1.000000  "
      ]
     },
     "execution_count": 28,
     "metadata": {},
     "output_type": "execute_result"
    }
   ],
   "source": [
    "titanic_df.describe()"
   ]
  },
  {
   "cell_type": "code",
   "execution_count": 29,
   "id": "76f2e7a0-f30d-4a3a-9022-8e0fd1dd7601",
   "metadata": {},
   "outputs": [
    {
     "name": "stdout",
     "output_type": "stream",
     "text": [
      "           Sex_num    Pclass  Survived       Age      Fare\n",
      "Sex_num   1.000000 -0.155460  0.538826 -0.093254  0.184994\n",
      "Pclass   -0.155460  1.000000 -0.359653 -0.369226 -0.554182\n",
      "Survived  0.538826 -0.359653  1.000000 -0.077221  0.268189\n",
      "Age      -0.093254 -0.369226 -0.077221  1.000000  0.096067\n",
      "Fare      0.184994 -0.554182  0.268189  0.096067  1.000000\n"
     ]
    }
   ],
   "source": [
    "corr_matrix1 = titanic_df[['Sex_num', 'Pclass', 'Survived', 'Age', 'Fare'] ]\n",
    "corr_matrix1 = corr_matrix1.corr()\n",
    "print(corr_matrix1)\n",
    "\n"
   ]
  },
  {
   "cell_type": "code",
   "execution_count": 30,
   "id": "1adb56c3-104d-4095-81f6-1383c54d2f65",
   "metadata": {},
   "outputs": [
    {
     "data": {
      "image/png": "[encoded data removed]",
      "text/plain": [
       "<Figure size 1000x700 with 2 Axes>"
      ]
     },
     "metadata": {},
     "output_type": "display_data"
    }
   ],
   "source": [
    "plt.figure(figsize=(10, 7))\n",
    "sns.heatmap(corr_matrix1, annot=True, cmap='coolwarm', fmt=\".2f\", square=True)\n",
    "plt.title(\"Correlation Matrix: Survival, Sex, Age , Fare, Class\")\n",
    "plt.show()"
   ]
  },
  {
   "cell_type": "markdown",
   "id": "790b5cd8-8ccc-4d5b-b42f-9f977d86963a",
   "metadata": {},
   "source": [
    " Feature Pair             Correlation                 Interpretation                                      \n",
    "\n",
    "Sex (numeric) & Survived  +0.54        Strong positive – females more likely to survive     \n",
    " Pclass & Survived        -0.36        Moderate negative – higher class had better survival \n",
    "Fare & Survived           +0.27        Slight positive – higher fare = higher survival      \n",
    " Age & Survived           -0.08        Very weak negative – older passengers slightly less likely to survive \n",
    "Pclass & Fare             -0.55        Strong negative – lower class paid less fare    \n",
    "Sex (numeric) & Pclass    -0.16        Weak negative – males more likely in lower classes   \n",
    "Fare & Age                +0.10        Very weak positive – older passengers paid slightly more \n"
   ]
  },
  {
   "cell_type": "markdown",
   "id": "12e36004-6c52-48cd-a998-920d4a4c1227",
   "metadata": {},
   "source": [
    "<h1> Summary</h1>\n",
    "\n",
    "<ol>\n",
    "  <li><strong>General Passenger Overview</strong>\n",
    "    <ul>\n",
    "      <li><strong>Total passengers:</strong> 891</li>\n",
    "      <li><strong>Survival rate:</strong> ~38% passengers survived</li>\n",
    "      <li><strong>Passenger class distribution:</strong> About 75% of passengers belonged to 3rd class</li>\n",
    "      <li><strong>Age:</strong> Most passengers were young, with a median age around 28</li>\n",
    "      <li><strong>Travel pattern:</strong> Most passengers traveled alone or with only one relative</li>\n",
    "    </ul>\n",
    "  </li>\n",
    "\n",
    "  <li><strong>Gender-Based Insights</strong>\n",
    "    <ul>\n",
    "      <li><strong>Gender distribution:</strong> Males ~65% (almost double the number of females)</li>\n",
    "      <li><strong>Survival by gender:</strong> Female survival rate is 4 times higher than that of males</li>\n",
    "    </ul>\n",
    "  </li>\n",
    "\n",
    "  <li><strong>Class-Based Survival Analysis</strong>\n",
    "    <ul>\n",
    "      <li><strong>Class distribution:</strong> More than half of the passengers were in 3rd class</li>\n",
    "      <li><strong>Survival rates by class:</strong>\n",
    "        <ul>\n",
    "          <li>1st class: ~62% survived</li>\n",
    "          <li>2nd class: ~50% died</li>\n",
    "          <li>3rd class: Only ~25% survived</li>\n",
    "        </ul>\n",
    "      </li>\n",
    "      <li><strong>Deaths by class:</strong>\n",
    "        <ul>\n",
    "          <li>67% of passengers who died were from 3rd class</li>\n",
    "          <li>In 1st class, only 15% died</li>\n",
    "        </ul>\n",
    "      </li>\n",
    "    </ul>\n",
    "  </li>\n",
    "\n",
    "  <li><strong>Female Survival by Class</strong>\n",
    "    <ul>\n",
    "      <li>1st class females: ~97% survived</li>\n",
    "      <li>2nd class females: ~92% survived</li>\n",
    "      <li>3rd class males: Only 13.5% survived</li>\n",
    "    </ul>\n",
    "  </li>\n",
    "\n",
    "  <li><strong>Other Notable Insights</strong>\n",
    "    <ul>\n",
    "      <li>Female representation highest in 1st class (~43.5%)</li>\n",
    "      <li>Younger passengers had a higher mortality rate</li>\n",
    "      <li>Passengers in higher classes had better survival rates</li>\n",
    "      <li>Lower-class passengers paid less fare</li>\n",
    "    </ul>\n",
    "  </li>\n",
    "</ol>\n"
   ]
  },
  {
   "cell_type": "code",
   "execution_count": null,
   "id": "9df906ea-9bd6-4ca0-bf57-9e9bfd3f9722",
   "metadata": {},
   "outputs": [],
   "source": []
  }
 ],
 "metadata": {
  "kernelspec": {
   "display_name": "Python 3 (ipykernel)",
   "language": "python",
   "name": "python3"
  },
  "language_info": {
   "codemirror_mode": {
    "name": "ipython",
    "version": 3
   },
   "file_extension": ".py",
   "mimetype": "text/x-python",
   "name": "python",
   "nbconvert_exporter": "python",
   "pygments_lexer": "ipython3",
   "version": "3.12.1"
  }
 },
 "nbformat": 4,
 "nbformat_minor": 5
}
