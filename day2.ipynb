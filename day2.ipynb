{
 "cells": [
  {
   "cell_type": "code",
   "execution_count": 1,
   "id": "4b0cae55-a280-42e3-98f0-484ad16fbde4",
   "metadata": {},
   "outputs": [
    {
     "name": "stdout",
     "output_type": "stream",
     "text": [
      "hi\n"
     ]
    }
   ],
   "source": [
    "print(\"hi\")"
   ]
  },
  {
   "cell_type": "code",
   "execution_count": 2,
   "id": "1cc15f01-8b8f-4a75-bbce-3fd7687c5923",
   "metadata": {},
   "outputs": [],
   "source": [
    "# slicing me only index par value check hota h, it reduces complexity\n",
    "# we can access only the sublist for the given 2d list  using slicing which means that entire row will be printed and column will be selected\n",
    "list=[[12,45,78], [63,90,54],[43,94,11]]\n",
    " "
   ]
  },
  {
   "cell_type": "code",
   "execution_count": 17,
   "id": "01945afa-3191-4932-8537-5fa4a28adf4b",
   "metadata": {},
   "outputs": [
    {
     "name": "stdout",
     "output_type": "stream",
     "text": [
      "[[1, 2, 3, 4, 5], [6, 7, 8, 9, 10], [11, 12, 13, 14, 15]]\n",
      "[13, 14, 15]\n",
      "[[1, 2, 3, 4, 5], [6, 7, 8, 9, 10], [11, 12, 13, 14, 15]]\n"
     ]
    }
   ],
   "source": [
    "list  =[ 1, 2, 3, 4, 5, 6, 7, 8, 9, 10, 11, 12 , 13, 14, 15]\n",
    "list2d = [[1,2,3,4,5],[6,7,8,9,10],[11,12,13,14,15]]\n",
    "# print( list2d[:2])\n",
    "# print( list2d[:2][1])\n",
    "# print( list2d[:1][0] [2])\n",
    "\n",
    "print( list2d[:3])\n",
    "print( list2d[:3][-1][2:])\n",
    "print(list2d)\n",
    "\n",
    "# dict_data={\n",
    "#     \"Name\":\n",
    "#     \"Age\":\n",
    "#     \"City\":\n",
    "#     \"Contact\":\n",
    "#     \"Relation\":\n",
    "# }\n",
    "\n",
    "\n"
   ]
  },
  {
   "cell_type": "code",
   "execution_count": null,
   "id": "dce20eb3-0b64-4dd8-820a-066976d872bc",
   "metadata": {},
   "outputs": [],
   "source": [
    "#  print the values of all the column with respect to the common slicing condition "
   ]
  }
 ],
 "metadata": {
  "kernelspec": {
   "display_name": "Python 3 (ipykernel)",
   "language": "python",
   "name": "python3"
  },
  "language_info": {
   "codemirror_mode": {
    "name": "ipython",
    "version": 3
   },
   "file_extension": ".py",
   "mimetype": "text/x-python",
   "name": "python",
   "nbconvert_exporter": "python",
   "pygments_lexer": "ipython3",
   "version": "3.12.1"
  }
 },
 "nbformat": 4,
 "nbformat_minor": 5
}
