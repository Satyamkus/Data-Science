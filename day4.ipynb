{
 "cells": [
  {
   "cell_type": "code",
   "execution_count": 148,
   "id": "1cccc013-b67b-4cb0-a279-2a9b292fe539",
   "metadata": {},
   "outputs": [],
   "source": [
    "# Team 1- social media uses and its impact on mental health of student\n",
    "# Team 2- academic performance Vs LifeStyle habits of Students\n",
    "\n",
    "\n",
    "\n",
    "\n",
    "# utilising the modular approach   - jupyter notebook so it is used\n",
    "# input lib ->  data loading -> eda -> visulization -> model raining -> prediction -> \n",
    "# kernel - convert binary file to electrical file to reach at processor to execute and vice vrsa\n",
    "\n",
    "# arr is not used in pyhton because python stores only obj.\n",
    "# type of list is object.\n",
    "\n",
    "\n",
    "# TypeCating - 1. implicit  ( default) low to high\n",
    "#              2. explicit ( By Force ) high to low\n",
    "\n",
    "\n"
   ]
  },
  {
   "cell_type": "code",
   "execution_count": 16,
   "id": "80df3ff7-c84b-4f2d-9eb3-1878679a40e4",
   "metadata": {},
   "outputs": [
    {
     "name": "stdout",
     "output_type": "stream",
     "text": [
      "53.94\n"
     ]
    }
   ],
   "source": [
    "# numpy- numerical python\n",
    "import numpy as np\n",
    "# np is a alias of numpy which acts as a obj of numpy\n",
    "# import statement - 1. Collective     import lib_name\n",
    "#                    2.Selective       from lib_name import module_name, module_name2\n",
    "\n",
    "data =[12,54,73,56.7,74]\n",
    "mean_data = np.mean(data)\n",
    "print( mean_data)"
   ]
  },
  {
   "cell_type": "code",
   "execution_count": 17,
   "id": "dd555190-92f4-40de-be13-c0ede4473f87",
   "metadata": {},
   "outputs": [
    {
     "name": "stdout",
     "output_type": "stream",
     "text": [
      "<class 'type'>\n"
     ]
    }
   ],
   "source": [
    "print(type(list))"
   ]
  },
  {
   "cell_type": "code",
   "execution_count": 18,
   "id": "ee4f48d0-f4d4-4283-aa70-b5a686a34097",
   "metadata": {},
   "outputs": [
    {
     "name": "stdout",
     "output_type": "stream",
     "text": [
      "[12.  54.  73.  56.7 74. ]\n",
      "12.0\n",
      "<class 'numpy.ndarray'>\n"
     ]
    }
   ],
   "source": [
    "arr_data = np.array(data)\n",
    "# arr_data acts same as a normal array\n",
    "                    \n",
    "print(arr_data)\n",
    "print(arr_data[0])\n",
    "print(type(arr_data))"
   ]
  },
  {
   "cell_type": "code",
   "execution_count": 19,
   "id": "7a975a0f-a673-4aa9-9ed7-4c478afe9041",
   "metadata": {},
   "outputs": [
    {
     "name": "stdout",
     "output_type": "stream",
     "text": [
      "[[1 2 3]\n",
      " [4 5 6]\n",
      " [7 8 9]]\n",
      "<class 'numpy.ndarray'>\n",
      "1 2 3 \n",
      "4 5 6 \n",
      "7 8 9 \n"
     ]
    }
   ],
   "source": [
    "arr_2d= np.array([[1,2,3],[4,5,6] , [7,8,9]])\n",
    "print(arr_2d)\n",
    "print(type(arr_2d))\n",
    "\n",
    "for i in range(0 , len(arr_2d)):\n",
    "    for j in range (0 , len(arr_2d[0])):\n",
    "        print(arr_2d[i][j], end=\" \")\n",
    "    print()\n",
    "\n",
    "\n",
    "# print() always gives a new line \n",
    "# so print(\"\\n\") gives two line gap"
   ]
  },
  {
   "cell_type": "code",
   "execution_count": 20,
   "id": "28492a31-6f8e-4b3f-a7c9-40fb8e941cbc",
   "metadata": {},
   "outputs": [
    {
     "name": "stdout",
     "output_type": "stream",
     "text": [
      "5.0\n",
      "[[4 5 6]]\n"
     ]
    }
   ],
   "source": [
    "print(np.median(arr_2d))\n",
    "print(arr_2d[1:2:3])\n",
    "\n"
   ]
  },
  {
   "cell_type": "code",
   "execution_count": 21,
   "id": "52d803e7-2605-45d3-96aa-d7a6bbf377d5",
   "metadata": {},
   "outputs": [
    {
     "name": "stdout",
     "output_type": "stream",
     "text": [
      "[[1]\n",
      " [4]\n",
      " [7]]\n"
     ]
    }
   ],
   "source": [
    "# social media uses and its impact on mental health of student\n",
    "# academic performance Vs LifeStyle habits of Students\n",
    "print(arr_2d[:3,:1])"
   ]
  },
  {
   "cell_type": "code",
   "execution_count": 22,
   "id": "86614064-8b80-46ed-8135-a541c812b7bb",
   "metadata": {},
   "outputs": [],
   "source": [
    "# integer - i\n",
    "# float -g\n",
    "# boolean  - b\n",
    "# unsigned integer - u\n",
    "# complex float - c\n",
    "# string - S\n",
    "# timedelta - n\n",
    "# Datetime - m\n",
    "# Object - O\n",
    "# void - V\n"
   ]
  },
  {
   "cell_type": "code",
   "execution_count": 23,
   "id": "6009832c-92b2-47c9-a270-557cfb156482",
   "metadata": {},
   "outputs": [
    {
     "name": "stdout",
     "output_type": "stream",
     "text": [
      "[[1 2 3]\n",
      " [4 5 6]\n",
      " [7 8 9]]\n",
      "<class 'numpy.ndarray'>\n"
     ]
    }
   ],
   "source": [
    "newArr = arr_2d.astype(\"b\")\n",
    "print(newArr)\n",
    "print(type(newArr))"
   ]
  },
  {
   "cell_type": "markdown",
   "id": "ef5b5506-cf9c-4fde-bcef-39b960ba7eb9",
   "metadata": {},
   "source": [
    "<h1>Day 5 </h1>"
   ]
  },
  {
   "cell_type": "markdown",
   "id": "f4ecbb4f-a78f-4cb5-90fd-deef1cda7e79",
   "metadata": {},
   "source": [
    "<h4>Copy as View </h4>"
   ]
  },
  {
   "cell_type": "code",
   "execution_count": 24,
   "id": "c5634887-7d1a-4d62-bfbe-5c1951bc47d1",
   "metadata": {},
   "outputs": [
    {
     "name": "stdout",
     "output_type": "stream",
     "text": [
      "[10 45 86 26]\n",
      "arr2 [77 45 86 26]\n"
     ]
    }
   ],
   "source": [
    "import numpy as np\n",
    "\n",
    "arr2 = np.array([10, 45, 86, 26])\n",
    "#copy karne pr  new array me change krne pr original me koi change nhi aaega\n",
    "x=arr2.copy()\n",
    "arr2[0]=77\n",
    "print(x)\n",
    "print(\"arr2\", arr2)"
   ]
  },
  {
   "cell_type": "code",
   "execution_count": 25,
   "id": "3c464d2a-e92d-4d99-bafc-229f22a114d2",
   "metadata": {},
   "outputs": [
    {
     "name": "stdout",
     "output_type": "stream",
     "text": [
      "[77 45 86 26]\n",
      "arr2 [77 50 86 26]\n"
     ]
    }
   ],
   "source": [
    "y = arr2.view() \n",
    "#// view me new array me change krne pr original me bhi change hoga\n",
    "# arr2[0]=89\n",
    "print(y)\n",
    "y[1]=50\n",
    "print(\"arr2\", arr2)"
   ]
  },
  {
   "cell_type": "markdown",
   "id": "891f88be-d481-406f-bc27-6cc95f1b91e9",
   "metadata": {},
   "source": [
    "<h3>Array Shape 1</h3>"
   ]
  },
  {
   "cell_type": "code",
   "execution_count": 29,
   "id": "1434b537-64d2-47d0-8405-785f12ab4c26",
   "metadata": {},
   "outputs": [
    {
     "name": "stdout",
     "output_type": "stream",
     "text": [
      "[[10 20 30]\n",
      " [40 50 60]\n",
      " [70 80 90]]\n",
      "(3, 3)\n",
      "(4,)\n"
     ]
    }
   ],
   "source": [
    "day5arr = np.array([[10,20,30],[40,50,60],[70,80,90]])\n",
    "print(day5arr)\n",
    "print(day5arr.shape)\n",
    "print(arr2.shape)"
   ]
  },
  {
   "cell_type": "code",
   "execution_count": 30,
   "id": "fe383317-23ef-4b5a-87a1-6196fd094cfb",
   "metadata": {
    "jp-MarkdownHeadingCollapsed": true
   },
   "outputs": [
    {
     "name": "stdout",
     "output_type": "stream",
     "text": [
      "(3, 3)\n"
     ]
    }
   ],
   "source": [
    "print(day5arr.shape)"
   ]
  },
  {
   "cell_type": "markdown",
   "id": "0168558d-e880-4123-8fc3-cb0acf9c5d09",
   "metadata": {},
   "source": [
    "<h4>Reshaping the Array of numpy</h4>"
   ]
  },
  {
   "cell_type": "markdown",
   "id": "dd59e96c-8aea-4828-8fec-68033209caf9",
   "metadata": {},
   "source": [
    "<h5>From 1D to 2D <h5/>"
   ]
  },
  {
   "cell_type": "code",
   "execution_count": 33,
   "id": "6583b244-bcf2-4e76-bacb-d634003bd02f",
   "metadata": {},
   "outputs": [
    {
     "name": "stdout",
     "output_type": "stream",
     "text": [
      "(12,)\n"
     ]
    }
   ],
   "source": [
    "new1d = np.array([1,2,3,4,5,6,7,8,9,10,11,12])\n",
    "print(new1d.shape)"
   ]
  },
  {
   "cell_type": "code",
   "execution_count": 39,
   "id": "4b683b97-1432-4a08-8292-8fc3f019ea7a",
   "metadata": {},
   "outputs": [
    {
     "name": "stdout",
     "output_type": "stream",
     "text": [
      "[[[ 1  2  3  4]]\n",
      "\n",
      " [[ 5  6  7  8]]\n",
      "\n",
      " [[ 9 10 11 12]]]\n",
      "(3, 1, 4)\n"
     ]
    }
   ],
   "source": [
    "reshape_arr = new1d.reshape(3,1,4)  # reshape is used to change the shape of array\n",
    "print(reshape_arr)\n",
    "print(reshape_arr.shape)"
   ]
  },
  {
   "cell_type": "code",
   "execution_count": 44,
   "id": "30735ac5-df01-43a7-86d6-5b5c82dded13",
   "metadata": {},
   "outputs": [
    {
     "name": "stdout",
     "output_type": "stream",
     "text": [
      "[10 20 30 40 50 60 70 80 90]\n"
     ]
    }
   ],
   "source": [
    "print(day5arr.reshape(9))"
   ]
  },
  {
   "cell_type": "code",
   "execution_count": 53,
   "id": "0714534f-ac50-4004-aa03-0689d7ff24a3",
   "metadata": {},
   "outputs": [
    {
     "name": "stdout",
     "output_type": "stream",
     "text": [
      "[[[ 1]\n",
      "  [ 2]\n",
      "  [ 3]\n",
      "  [ 4]]\n",
      "\n",
      " [[ 5]\n",
      "  [ 6]\n",
      "  [ 7]\n",
      "  [ 8]]\n",
      "\n",
      " [[ 9]\n",
      "  [10]\n",
      "  [11]\n",
      "  [12]]]\n",
      "(3, 4, 1)\n"
     ]
    }
   ],
   "source": [
    "# unknown2d= new1d.reshape(-1,4)  \n",
    "# if we not know col or row we give -1 to adjust automatically\n",
    "unknown2d= new1d.reshape(3,4,-1)\n",
    "print(unknown2d)\n",
    "print(unknown2d.shape)"
   ]
  },
  {
   "cell_type": "code",
   "execution_count": 57,
   "id": "87961da9-bc13-4a39-a11e-8b6f9fbe7f37",
   "metadata": {},
   "outputs": [
    {
     "name": "stdout",
     "output_type": "stream",
     "text": [
      "[10 20 30 40 50 60 70 80 90]\n"
     ]
    }
   ],
   "source": [
    "print(day5arr.reshape(-1))\n",
    "# flattening of arr - convert multiDimensional arr into 1dimensional arr  -> reshape(-1) is used"
   ]
  },
  {
   "cell_type": "markdown",
   "id": "18eae297-277b-423c-8276-293157460634",
   "metadata": {},
   "source": [
    "<h4> Joining of Array</h4>"
   ]
  },
  {
   "cell_type": "code",
   "execution_count": 60,
   "id": "6891d6d5-c24b-4a2e-8ac1-5e4029347948",
   "metadata": {},
   "outputs": [
    {
     "name": "stdout",
     "output_type": "stream",
     "text": [
      "[12 22 32 40 50 60 90 89]\n"
     ]
    }
   ],
   "source": [
    "arr1= np.array([12,22,32])\n",
    "arr2= np.array([40,50,60])\n",
    "arr3= np.array([90,89])\n",
    "finalarr = np.concatenate((arr1, arr2,arr3))  # used for joining of array\n",
    "print(finalarr)"
   ]
  },
  {
   "cell_type": "code",
   "execution_count": 70,
   "id": "14daa4ca-528e-480e-84a8-61ee35d391b2",
   "metadata": {},
   "outputs": [
    {
     "name": "stdout",
     "output_type": "stream",
     "text": [
      "[[1 2 5 6]\n",
      " [3 4 7 8]]\n"
     ]
    }
   ],
   "source": [
    "ar2d1= np.array([[1,2], [3,4]])\n",
    "ar2d2= np.array([[5,6],[7,8]])\n",
    "# newAr2d1= np.concatenate((ar2d1,ar2d2))    # by default axis is 0\n",
    "newAr2d1= np.concatenate((ar2d1,ar2d2), axis=1)\n",
    "print(newAr2d1)"
   ]
  },
  {
   "cell_type": "markdown",
   "id": "5da51b65-7efd-4b29-b8a6-f72dc8266eb3",
   "metadata": {},
   "source": [
    "<h4>Splitting of Array</h4>"
   ]
  },
  {
   "cell_type": "code",
   "execution_count": 88,
   "id": "052cc4d5-7c8d-46c4-8984-1230548e9221",
   "metadata": {},
   "outputs": [
    {
     "name": "stdout",
     "output_type": "stream",
     "text": [
      "[array([1, 2, 3]), array([4, 5, 6])]\n"
     ]
    }
   ],
   "source": [
    "splarr = np.array([1,2,3,4,5,6])\n",
    "newspl =np.split(splarr, 2)\n",
    "# split always defined arr into equal part\n",
    "print(newspl)"
   ]
  },
  {
   "cell_type": "code",
   "execution_count": 77,
   "id": "d507ebdd-b2dc-4df4-b36f-dcedf48d9adf",
   "metadata": {},
   "outputs": [
    {
     "name": "stdout",
     "output_type": "stream",
     "text": [
      "[array([1, 2]), array([3, 4]), array([5]), array([6])]\n"
     ]
    }
   ],
   "source": [
    "smartspl = np.array_split(splarr,4)\n",
    "print(smartspl)"
   ]
  },
  {
   "cell_type": "code",
   "execution_count": 86,
   "id": "1b5e8428-4a94-42af-b435-691eb1004019",
   "metadata": {},
   "outputs": [
    {
     "name": "stdout",
     "output_type": "stream",
     "text": [
      "[array([[1, 2, 3],\n",
      "       [4, 5, 6]]), array([[ 7,  8,  9],\n",
      "       [10, 11, 12]])]\n"
     ]
    }
   ],
   "source": [
    "splarr1 = np.array( [[1,2,3],[4,5,6],[7,8,9],[10,11,12]])\n",
    "newspl1= np.split(splarr1,2)\n",
    "print(newspl1)"
   ]
  },
  {
   "cell_type": "code",
   "execution_count": 93,
   "id": "b1cd30e9-3bb8-46db-9b6f-bf07c6087a21",
   "metadata": {},
   "outputs": [
    {
     "name": "stdout",
     "output_type": "stream",
     "text": [
      "[array([[1, 2, 3],\n",
      "       [4, 5, 6]]), array([[7, 8, 9]]), array([[10, 11, 12]])]\n"
     ]
    }
   ],
   "source": [
    "smartspl1 = np.array_split(splarr1, 3)\n",
    "print(smartspl1)\n"
   ]
  },
  {
   "cell_type": "markdown",
   "id": "19454593-bed6-4987-b72a-9cf4fb25715b",
   "metadata": {},
   "source": [
    "<h4>Searching in Array</h4>"
   ]
  },
  {
   "cell_type": "code",
   "execution_count": 103,
   "id": "5924cc9d-f380-4fe6-9613-1a0c22d3451a",
   "metadata": {},
   "outputs": [
    {
     "name": "stdout",
     "output_type": "stream",
     "text": [
      "(array([1], dtype=int64), array([0], dtype=int64))\n"
     ]
    }
   ],
   "source": [
    "location = np.where(splarr1 ==4)\n",
    "# where function returns the list of index of present value\n",
    "print(location)"
   ]
  },
  {
   "cell_type": "code",
   "execution_count": 102,
   "id": "14db6d38-e79e-4f6e-8b32-16a93af86808",
   "metadata": {},
   "outputs": [
    {
     "name": "stdout",
     "output_type": "stream",
     "text": [
      "(array([0, 2, 4], dtype=int64),)\n"
     ]
    }
   ],
   "source": [
    "# scenerio base search \n",
    "scene = np.where(splarr %2 == 1)  # return the list of index of all odd number in splarr\n",
    "print(scene)"
   ]
  },
  {
   "cell_type": "markdown",
   "id": "5e6bae61-65ee-41b3-a62e-6e0f1dd4965a",
   "metadata": {},
   "source": [
    "<h4>Sorting in Array</h4>"
   ]
  },
  {
   "cell_type": "code",
   "execution_count": 105,
   "id": "432b2eee-cee4-4a95-aff2-a0470d592f54",
   "metadata": {},
   "outputs": [
    {
     "name": "stdout",
     "output_type": "stream",
     "text": [
      "[1 2 4 7 8 9]\n"
     ]
    }
   ],
   "source": [
    "raw = np.array([9,4,7,1,2,8])\n",
    "print(np.sort(raw))"
   ]
  },
  {
   "cell_type": "code",
   "execution_count": 140,
   "id": "f85f309c-94fe-46ef-bea5-d9b74b9138cf",
   "metadata": {},
   "outputs": [
    {
     "name": "stdout",
     "output_type": "stream",
     "text": [
      "['ajay' 'ajit' 'satyam' 'vishal']\n",
      "['vishal' 'satyam' 'ajit' 'ajay']\n"
     ]
    }
   ],
   "source": [
    "str_data = np.array([\"satyam\",\"vishal\", \"ajay\", \"ajit\"])\n",
    "print(np.sort(str_data))   # sort the array into lexicographicaly order\n",
    "print(np.sort(str_data)[::-1]) # sort the array in descending array"
   ]
  },
  {
   "cell_type": "code",
   "execution_count": 112,
   "id": "29997956-6615-4ae2-907a-2d128971a980",
   "metadata": {},
   "outputs": [
    {
     "name": "stdout",
     "output_type": "stream",
     "text": [
      "[[ 1  2  4  7  8  9]\n",
      " [ 1  1  2  3 23 56]]\n"
     ]
    }
   ],
   "source": [
    "raw1 = np.array([[9,4,7,1,2,8],[56,23, 1,1,2,3]])\n",
    "print(np.sort(raw1))"
   ]
  },
  {
   "cell_type": "markdown",
   "id": "85aeca44-ee44-483f-85f6-04bbb7de7b1a",
   "metadata": {},
   "source": [
    "<h1>Generating random Values</h1>"
   ]
  },
  {
   "cell_type": "code",
   "execution_count": 120,
   "id": "f8242b13-e981-4444-af60-697243ea8606",
   "metadata": {},
   "outputs": [],
   "source": [
    "from numpy import random\n"
   ]
  },
  {
   "cell_type": "code",
   "execution_count": 130,
   "id": "dd1d15df-48c8-4109-ad0e-1f31a5212630",
   "metadata": {},
   "outputs": [
    {
     "name": "stdout",
     "output_type": "stream",
     "text": [
      "32.71276092525186\n"
     ]
    }
   ],
   "source": [
    "p = random.rand()*100\n",
    "# by default random values are between 0 - 1\n",
    "print(p)"
   ]
  },
  {
   "cell_type": "code",
   "execution_count": 132,
   "id": "5b28ad29-e203-46a6-88c4-b7b7e3ce514c",
   "metadata": {},
   "outputs": [
    {
     "name": "stdout",
     "output_type": "stream",
     "text": [
      "[[317 726 445 321 802]\n",
      " [811  66 254 188 779]\n",
      " [833 191 524 864 131]\n",
      " [133 383 770  53 667]\n",
      " [976 368 880 350 798]]\n"
     ]
    }
   ],
   "source": [
    "q= random.randint(1000, size=(5,5))\n",
    "print(q)\n",
    "# randint return only integer value\n",
    "                  "
   ]
  },
  {
   "cell_type": "code",
   "execution_count": 147,
   "id": "1565955e-c85f-4639-a8c6-d853744adb46",
   "metadata": {},
   "outputs": [
    {
     "name": "stdout",
     "output_type": "stream",
     "text": [
      "4\n"
     ]
    }
   ],
   "source": [
    "# random from selected data\n",
    "choice = random.choice(raw) # it is used to generate random values from a given choice(arr)\n",
    "print(choice)"
   ]
  },
  {
   "cell_type": "code",
   "execution_count": 142,
   "id": "5c030e51-9170-4c11-8671-f3bfd22804c5",
   "metadata": {},
   "outputs": [
    {
     "name": "stdout",
     "output_type": "stream",
     "text": [
      "[4, 1, 5, 2, 3]\n"
     ]
    }
   ],
   "source": [
    "#random  shuffle a list\n",
    "my_list = [1, 2, 3, 4, 5]\n",
    "random.shuffle(my_list)\n",
    "print(my_list)"
   ]
  },
  {
   "cell_type": "code",
   "execution_count": 146,
   "id": "07bd92a8-3679-4b55-9910-b364eb4e6e59",
   "metadata": {},
   "outputs": [
    {
     "name": "stdout",
     "output_type": "stream",
     "text": [
      "19.716072432353105\n"
     ]
    }
   ],
   "source": [
    "val = random.uniform(12,75)\n",
    "print(val)"
   ]
  },
  {
   "cell_type": "code",
   "execution_count": 149,
   "id": "f6bc7b2e-a1b0-45d4-857d-c8133fe7ea6c",
   "metadata": {},
   "outputs": [],
   "source": [
    "# 1. Descriptive Analysis- what has happened  -> \n",
    "# 2. Diagnostic Analysis- why it happened     -> visualization\n",
    "# 3. Predictive Analysis- what will happen    -> algo lago\n",
    "# 4. Prescriptive Analysis - what should be done -> summary banawo"
   ]
  },
  {
   "cell_type": "code",
   "execution_count": null,
   "id": "e871d8bf-312d-4577-8c0b-e0186b0fdf2d",
   "metadata": {},
   "outputs": [],
   "source": []
  }
 ],
 "metadata": {
  "kernelspec": {
   "display_name": "Python 3 (ipykernel)",
   "language": "python",
   "name": "python3"
  },
  "language_info": {
   "codemirror_mode": {
    "name": "ipython",
    "version": 3
   },
   "file_extension": ".py",
   "mimetype": "text/x-python",
   "name": "python",
   "nbconvert_exporter": "python",
   "pygments_lexer": "ipython3",
   "version": "3.12.1"
  }
 },
 "nbformat": 4,
 "nbformat_minor": 5
}
